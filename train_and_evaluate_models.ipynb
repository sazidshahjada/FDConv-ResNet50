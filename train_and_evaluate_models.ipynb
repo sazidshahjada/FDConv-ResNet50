{
 "cells": [
  {
   "cell_type": "code",
   "execution_count": null,
   "id": "a6874b5c",
   "metadata": {},
   "outputs": [],
   "source": [
    "import os\n",
    "import torch\n",
    "import pynvml\n",
    "import numpy as np\n",
    "from PIL import Image\n",
    "import torch.nn as nn\n",
    "import matplotlib.pyplot as plt\n",
    "from torchvision import transforms\n",
    "from torchvision.models import resnet50\n",
    "from FDResnet50 import FDResNet, resnet50_fdconv\n",
    "from torchvision.datasets import ImageFolder\n",
    "from torch.utils.data import DataLoader\n",
    "from utils import print_generalized_model_summary\n",
    "from torch.utils.tensorboard import SummaryWriter\n",
    "from train_utils import train_model, evaluate_model, plot_training_history\n",
    "\n",
    "%matplotlib inline"
   ]
  },
  {
   "cell_type": "code",
   "execution_count": null,
   "id": "28e858f2",
   "metadata": {},
   "outputs": [],
   "source": [
    "import warnings\n",
    "warnings.filterwarnings('ignore')"
   ]
  },
  {
   "cell_type": "code",
   "execution_count": null,
   "id": "bde16e39",
   "metadata": {},
   "outputs": [],
   "source": [
    "is_cuda = torch.cuda.is_available()\n",
    "device = \"cuda\" if is_cuda else \"cpu\"\n",
    "print(\"Device:\", device)\n",
    "\n",
    "if is_cuda:\n",
    "    print(\"GPU Model:\", torch.cuda.get_device_name(0))\n",
    "    \n",
    "    pynvml.nvmlInit()\n",
    "    handle = pynvml.nvmlDeviceGetHandleByIndex(0)\n",
    "\n",
    "    info = pynvml.nvmlDeviceGetMemoryInfo(handle)\n",
    "    print(f\"Total VRAM:     {info.total / 1024**3:.2f} GB\")\n",
    "    print(f\"Used VRAM:      {info.used / 1024**3:.2f} GB\")\n",
    "    print(f\"Free VRAM:      {info.free / 1024**3:.2f} GB\")"
   ]
  },
  {
   "cell_type": "code",
   "execution_count": null,
   "id": "b3b14b33",
   "metadata": {},
   "outputs": [],
   "source": [
    "train_dir = \"/home/iot/Garbage/Violence_Detection/data/train\"\n",
    "val_dir = \"/home/iot/Garbage/Violence_Detection/data/val\"\n",
    "test_dir = \"/home/iot/Garbage/Violence_Detection/data/test\""
   ]
  },
  {
   "cell_type": "code",
   "execution_count": null,
   "id": "78f3263e",
   "metadata": {},
   "outputs": [],
   "source": [
    "image_size = (224, 224)\n",
    "\n",
    "transform = transforms.Compose([\n",
    "    transforms.Resize(image_size),\n",
    "    transforms.RandomHorizontalFlip(),\n",
    "    transforms.RandomRotation(10),\n",
    "    transforms.ColorJitter(brightness=0.2, contrast=0.2, saturation=0.2, hue=0.1),\n",
    "    transforms.ToTensor(),\n",
    "    transforms.Normalize([0.485, 0.456, 0.406], [0.229, 0.224, 0.225])\n",
    "])\n",
    "\n",
    "train_dataset = ImageFolder(root=train_dir, transform=transform)\n",
    "val_dataset = ImageFolder(root=val_dir, transform=transform)\n",
    "test_dataset = ImageFolder(root=test_dir, transform=transform)\n",
    "\n",
    "class_names = train_dataset.classes\n",
    "num_classes = len(class_names)\n",
    "\n",
    "print(f\"Number of classes: {num_classes}\")\n",
    "print(f\"Class names: {class_names}\")"
   ]
  },
  {
   "cell_type": "code",
   "execution_count": null,
   "id": "0959c753",
   "metadata": {},
   "outputs": [],
   "source": [
    "def show_class_samples(dataset, class_names, num_samples=5):\n",
    "    plt.figure(figsize=(15, 5))\n",
    "    class_to_idx = dataset.class_to_idx\n",
    "    \n",
    "    for c_idx, class_name in enumerate(class_names):\n",
    "        target_idx = class_to_idx[class_name]\n",
    "        indices = [i for i, (_, label) in enumerate(dataset.samples) if label == target_idx]\n",
    "        chosen_indices = indices[:num_samples]\n",
    "        \n",
    "        for j, idx in enumerate(chosen_indices):\n",
    "            img, label = dataset[idx]\n",
    "            img = img.permute(1, 2, 0) * 0.5 + 0.5\n",
    "            \n",
    "            plt.subplot(len(class_names), num_samples, c_idx * num_samples + j + 1)\n",
    "            plt.imshow(img)\n",
    "            plt.title(f\"{class_name}\")\n",
    "            plt.axis('off')\n",
    "    plt.show()\n",
    "\n",
    "show_class_samples(train_dataset, class_names, num_samples=5)"
   ]
  },
  {
   "cell_type": "code",
   "execution_count": null,
   "id": "fcccf875",
   "metadata": {},
   "outputs": [],
   "source": [
    "batch_size = 4\n",
    "\n",
    "train_loader = DataLoader(train_dataset, batch_size=batch_size, shuffle=True, pin_memory=True)\n",
    "val_loader = DataLoader(val_dataset, batch_size=batch_size, shuffle=False, pin_memory=True)\n",
    "test_loader = DataLoader(test_dataset, batch_size=batch_size, shuffle=False, pin_memory=True)\n",
    "\n",
    "train_counts = np.bincount([label for _, label in train_dataset.samples], minlength=num_classes)\n",
    "val_counts = np.bincount([label for _, label in val_dataset.samples], minlength=num_classes)\n",
    "test_counts = np.bincount([label for _, label in test_dataset.samples], minlength=num_classes)\n",
    "\n",
    "print(f\"Number of training samples: {len(train_dataset)}, class distribution: {dict(zip(class_names, train_counts))}\")\n",
    "print(f\"Number of validation samples: {len(val_dataset)}, class distribution: {dict(zip(class_names, val_counts))}\")\n",
    "print(f\"Number of test samples: {len(test_dataset)}, class distribution: {dict(zip(class_names, test_counts))}\")"
   ]
  },
  {
   "cell_type": "code",
   "execution_count": null,
   "id": "8e77b67c",
   "metadata": {},
   "outputs": [],
   "source": [
    "resnet_model = resnet50(weights=None)\n",
    "\n",
    "# (Optional) freeze base layers\n",
    "# for param in resnet_model.parameters():\n",
    "#     param.requires_grad = False\n",
    "\n",
    "# Replace the classifier head\n",
    "in_features = resnet_model.fc.in_features\n",
    "resnet_model.fc = nn.Linear(in_features, num_classes)\n",
    "\n",
    "print(f\"ResNet50 model created from scratch with {num_classes} output classes\")\n",
    "print(\"\\nResnet50 Model Summary:\")\n",
    "print_generalized_model_summary(resnet_model, model_name=\"Resnet50\")"
   ]
  },
  {
   "cell_type": "code",
   "execution_count": null,
   "id": "0ca4c7d8",
   "metadata": {},
   "outputs": [],
   "source": [
    "num_epochs = 50\n",
    "learning_rate = 0.001\n",
    "weight_decay = 1e-4\n",
    "patience = 3\n",
    "criterion = nn.CrossEntropyLoss()\n",
    "\n",
    "# Train the entire model, not just the classifier\n",
    "optimizer = torch.optim.Adam(resnet_model.parameters(), lr=learning_rate, weight_decay=weight_decay)\n",
    "scheduler = torch.optim.lr_scheduler.ReduceLROnPlateau(optimizer, mode='min', factor=0.1, patience=patience)\n",
    "\n",
    "save_dir = \"./saved_models/resnet50/\"\n",
    "if not os.path.exists(save_dir):\n",
    "    os.makedirs(save_dir)\n",
    "\n",
    "log_dir = \"./runs/resnet50/\"\n",
    "if not os.path.exists(log_dir):\n",
    "    os.makedirs(log_dir)\n",
    "writer = SummaryWriter(log_dir=log_dir)\n",
    "\n",
    "resnet_model = resnet_model.to(device)\n",
    "\n",
    "# Updated function call with correct parameter order\n",
    "resnet_model, history = train_model(\n",
    "    model=resnet_model,\n",
    "    criterion=criterion,\n",
    "    optimizer=optimizer,\n",
    "    scheduler=scheduler,\n",
    "    train_loader=train_loader,\n",
    "    val_loader=val_loader,\n",
    "    writer=writer,\n",
    "    num_epochs=num_epochs,\n",
    "    device=device,\n",
    "    model_name=\"Resnet50\",\n",
    "    early_stopping_patience=3,\n",
    "    save_dir=save_dir,\n",
    "    save_best_only=True\n",
    ")"
   ]
  },
  {
   "cell_type": "code",
   "execution_count": null,
   "id": "452cd3a5",
   "metadata": {},
   "outputs": [],
   "source": [
    "plot_training_history(history, model_name=\"Resnet50\")"
   ]
  },
  {
   "cell_type": "code",
   "execution_count": null,
   "id": "8e90395a",
   "metadata": {},
   "outputs": [],
   "source": [
    "# Evaluate the trained model on test set\n",
    "acc, pre, rec, f1 = evaluate_model(\n",
    "    model=resnet_model, \n",
    "    test_loader=test_loader, \n",
    "    device=device, \n",
    "    model_name=\"ResNet50\", \n",
    "    class_names=class_names\n",
    ")"
   ]
  },
  {
   "cell_type": "code",
   "execution_count": null,
   "id": "060271c4",
   "metadata": {},
   "outputs": [],
   "source": [
    "# Release the GPU occupied memory\n",
    "del resnet_model\n",
    "if is_cuda:\n",
    "    torch.cuda.empty_cache()"
   ]
  },
  {
   "cell_type": "code",
   "execution_count": null,
   "id": "680a269b",
   "metadata": {},
   "outputs": [],
   "source": [
    "# Initialize FD-Conv ResNet50 model\n",
    "fdconv_resnet_model = resnet50_fdconv(num_classes=num_classes, pretrained=False)\n",
    "print(f\"\\nFD-Conv ResNet50 model created from scratch with {num_classes} output classes\")\n",
    "print(\"\\nFD-Conv ResNet50 Model Summary:\")\n",
    "print_generalized_model_summary(fdconv_resnet_model, model_name=\"FD-Conv ResNet50\")"
   ]
  },
  {
   "cell_type": "code",
   "execution_count": null,
   "id": "441c31a0",
   "metadata": {},
   "outputs": [],
   "source": [
    "# FD-Conv ResNet50 Training Configuration with Memory Optimization\n",
    "num_epochs = 50\n",
    "learning_rate = 1e-5\n",
    "weight_decay = 1e-4\n",
    "patience = 3\n",
    "\n",
    "\n",
    "criterion = nn.CrossEntropyLoss()\n",
    "optimizer = torch.optim.Adam(fdconv_resnet_model.parameters(), lr=learning_rate, weight_decay=weight_decay)\n",
    "scheduler = torch.optim.lr_scheduler.ReduceLROnPlateau(optimizer, mode='min', factor=0.1, patience=patience)\n",
    "\n",
    "save_dir = \"./saved_models/fdresnet50/\"\n",
    "if not os.path.exists(save_dir):\n",
    "    os.makedirs(save_dir)\n",
    "\n",
    "log_dir = \"./runs/fdresnet50/\"\n",
    "if not os.path.exists(log_dir):\n",
    "    os.makedirs(log_dir)\n",
    "writer = SummaryWriter(log_dir=log_dir)\n",
    "\n",
    "fdconv_resnet_model = fdconv_resnet_model.to(device)\n",
    "\n",
    "\n",
    "# Updated function call with smaller data loaders for memory efficiency\n",
    "fdconv_resnet_model, history = train_model(\n",
    "    model=fdconv_resnet_model,\n",
    "    criterion=criterion,\n",
    "    optimizer=optimizer,\n",
    "    scheduler=scheduler,\n",
    "    train_loader=train_loader,\n",
    "    val_loader=val_loader,\n",
    "    writer=writer,\n",
    "    num_epochs=num_epochs,\n",
    "    device=device,\n",
    "    model_name=\"FDConv_ResNet50\",\n",
    "    early_stopping_patience=5,\n",
    "    save_dir=save_dir,\n",
    "    save_best_only=True,\n",
    "    warmup_epochs=10,\n",
    "    max_grad_norm=0.5,\n",
    "    monitor_gradients=True,\n",
    "    memory_efficient=True\n",
    ")"
   ]
  },
  {
   "cell_type": "code",
   "execution_count": null,
   "id": "50c6e198",
   "metadata": {},
   "outputs": [],
   "source": [
    "plot_training_history(history, model_name=\"FD-Conv ResNet50\")"
   ]
  },
  {
   "cell_type": "code",
   "execution_count": null,
   "id": "01be77f5",
   "metadata": {},
   "outputs": [],
   "source": [
    "evaluate_model(\n",
    "    model=fdconv_resnet_model, \n",
    "    test_loader=test_loader, \n",
    "    device=device, \n",
    "    model_name=\"FD-Conv ResNet50\", \n",
    "    class_names=class_names\n",
    ")"
   ]
  }
 ],
 "metadata": {
  "kernelspec": {
   "display_name": "exp",
   "language": "python",
   "name": "python3"
  },
  "language_info": {
   "codemirror_mode": {
    "name": "ipython",
    "version": 3
   },
   "file_extension": ".py",
   "mimetype": "text/x-python",
   "name": "python",
   "nbconvert_exporter": "python",
   "pygments_lexer": "ipython3",
   "version": "3.12.9"
  }
 },
 "nbformat": 4,
 "nbformat_minor": 5
}
